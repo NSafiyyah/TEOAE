{
 "cells": [
  {
   "cell_type": "code",
   "execution_count": 1,
   "metadata": {
    "colab": {
     "base_uri": "https://localhost:8080/"
    },
    "id": "jkkYA2JLkAnl",
    "outputId": "6151512b-2b9f-4016-8243-e58ceeb6a640"
   },
   "outputs": [
    {
     "name": "stdout",
     "output_type": "stream",
     "text": [
      "Drive already mounted at /content/drive; to attempt to forcibly remount, call drive.mount(\"/content/drive\", force_remount=True).\n"
     ]
    }
   ],
   "source": [
    "from google.colab import drive\n",
    "drive.mount('/content/drive')"
   ]
  },
  {
   "cell_type": "code",
   "execution_count": 2,
   "metadata": {
    "id": "MSUsK0jox8sF"
   },
   "outputs": [],
   "source": [
    "#Importing all the necessary Libraries\n",
    "import numpy as np \n",
    "import pandas as pd \n",
    "import pywt\n",
    "import matplotlib.pyplot as plt\n",
    "%matplotlib inline \n",
    "import seaborn as sns\n",
    "\n",
    "import tensorflow\n",
    "from tensorflow.keras.applications.inception_v3 import InceptionV3\n",
    "from sklearn import preprocessing\n",
    "from sklearn.model_selection import train_test_split\n",
    "from sklearn.preprocessing import StandardScaler\n",
    "from sklearn.decomposition import PCA\n",
    "from sklearn.svm import SVC, LinearSVC\n",
    "from sklearn.neural_network import MLPClassifier\n",
    "from sklearn.ensemble import RandomForestClassifier\n",
    "from sklearn.neighbors import KNeighborsClassifier \n",
    "from sklearn.metrics import accuracy_score\n",
    "from sklearn.metrics import confusion_matrix\n",
    "\n",
    "import keras\n",
    "from keras.layers import Dense, Flatten, Dropout\n",
    "from keras.layers import Conv2D, MaxPooling2D\n",
    "from keras.models import Sequential\n",
    "from keras.callbacks import History \n",
    "from keras.applications.resnet50 import ResNet50\n",
    "from keras.layers import Dense,Activation, Conv2D, MaxPool2D , Flatten\n",
    "from keras.preprocessing.image import ImageDataGenerator\n",
    "from keras.layers.normalization import BatchNormalization\n",
    "from keras.layers import Input\n",
    "from keras.layers import Concatenate, Dense, LSTM, Input, concatenate\n",
    "from keras.models import Model\n",
    "from keras.datasets import mnist\n",
    "from keras.layers import Dense, Dropout, LSTM\n",
    "from keras.optimizers import Adam\n",
    "\n",
    "np.random.seed(1000)"
   ]
  },
  {
   "cell_type": "code",
   "execution_count": 3,
   "metadata": {
    "id": "OmRrOXQvkGo0"
   },
   "outputs": [],
   "source": [
    "df=pd.read_csv('/content/drive/My Drive/Colab Notebooks/steadyteoaeLast10_4320Signals.csv')"
   ]
  },
  {
   "cell_type": "code",
   "execution_count": 4,
   "metadata": {
    "colab": {
     "base_uri": "https://localhost:8080/",
     "height": 273
    },
    "id": "kDYep-rpkQ9X",
    "outputId": "3a30185c-e653-48cf-c2e4-7b0a595e7102"
   },
   "outputs": [
    {
     "data": {
      "text/html": [
       "<div>\n",
       "<style scoped>\n",
       "    .dataframe tbody tr th:only-of-type {\n",
       "        vertical-align: middle;\n",
       "    }\n",
       "\n",
       "    .dataframe tbody tr th {\n",
       "        vertical-align: top;\n",
       "    }\n",
       "\n",
       "    .dataframe thead th {\n",
       "        text-align: right;\n",
       "    }\n",
       "</style>\n",
       "<table border=\"1\" class=\"dataframe\">\n",
       "  <thead>\n",
       "    <tr style=\"text-align: right;\">\n",
       "      <th></th>\n",
       "      <th>Unnamed: 0</th>\n",
       "      <th>subject</th>\n",
       "      <th>session</th>\n",
       "      <th>ear</th>\n",
       "      <th>buffer</th>\n",
       "      <th>block</th>\n",
       "      <th>data_0</th>\n",
       "      <th>data_1</th>\n",
       "      <th>data_2</th>\n",
       "      <th>data_3</th>\n",
       "      <th>data_4</th>\n",
       "      <th>data_5</th>\n",
       "      <th>data_6</th>\n",
       "      <th>data_7</th>\n",
       "      <th>data_8</th>\n",
       "      <th>data_9</th>\n",
       "      <th>data_10</th>\n",
       "      <th>data_11</th>\n",
       "      <th>data_12</th>\n",
       "      <th>data_13</th>\n",
       "      <th>data_14</th>\n",
       "      <th>data_15</th>\n",
       "      <th>data_16</th>\n",
       "      <th>data_17</th>\n",
       "      <th>data_18</th>\n",
       "      <th>data_19</th>\n",
       "      <th>data_20</th>\n",
       "      <th>data_21</th>\n",
       "      <th>data_22</th>\n",
       "      <th>data_23</th>\n",
       "      <th>data_24</th>\n",
       "      <th>data_25</th>\n",
       "      <th>data_26</th>\n",
       "      <th>data_27</th>\n",
       "      <th>data_28</th>\n",
       "      <th>data_29</th>\n",
       "      <th>data_30</th>\n",
       "      <th>data_31</th>\n",
       "      <th>data_32</th>\n",
       "      <th>data_33</th>\n",
       "      <th>...</th>\n",
       "      <th>data_620</th>\n",
       "      <th>data_621</th>\n",
       "      <th>data_622</th>\n",
       "      <th>data_623</th>\n",
       "      <th>data_624</th>\n",
       "      <th>data_625</th>\n",
       "      <th>data_626</th>\n",
       "      <th>data_627</th>\n",
       "      <th>data_628</th>\n",
       "      <th>data_629</th>\n",
       "      <th>data_630</th>\n",
       "      <th>data_631</th>\n",
       "      <th>data_632</th>\n",
       "      <th>data_633</th>\n",
       "      <th>data_634</th>\n",
       "      <th>data_635</th>\n",
       "      <th>data_636</th>\n",
       "      <th>data_637</th>\n",
       "      <th>data_638</th>\n",
       "      <th>data_639</th>\n",
       "      <th>data_640</th>\n",
       "      <th>data_641</th>\n",
       "      <th>data_642</th>\n",
       "      <th>data_643</th>\n",
       "      <th>data_644</th>\n",
       "      <th>data_645</th>\n",
       "      <th>data_646</th>\n",
       "      <th>data_647</th>\n",
       "      <th>data_648</th>\n",
       "      <th>data_649</th>\n",
       "      <th>data_650</th>\n",
       "      <th>data_651</th>\n",
       "      <th>data_652</th>\n",
       "      <th>data_653</th>\n",
       "      <th>data_654</th>\n",
       "      <th>data_655</th>\n",
       "      <th>data_656</th>\n",
       "      <th>data_657</th>\n",
       "      <th>data_658</th>\n",
       "      <th>data_659</th>\n",
       "    </tr>\n",
       "  </thead>\n",
       "  <tbody>\n",
       "    <tr>\n",
       "      <th>0</th>\n",
       "      <td>40</td>\n",
       "      <td>0</td>\n",
       "      <td>0</td>\n",
       "      <td>left</td>\n",
       "      <td>A</td>\n",
       "      <td>40</td>\n",
       "      <td>0.000062</td>\n",
       "      <td>0.000063</td>\n",
       "      <td>0.000065</td>\n",
       "      <td>0.000067</td>\n",
       "      <td>0.000069</td>\n",
       "      <td>0.000072</td>\n",
       "      <td>0.000074</td>\n",
       "      <td>0.000077</td>\n",
       "      <td>0.000078</td>\n",
       "      <td>0.000080</td>\n",
       "      <td>0.000081</td>\n",
       "      <td>0.000083</td>\n",
       "      <td>0.000084</td>\n",
       "      <td>0.000085</td>\n",
       "      <td>0.000085</td>\n",
       "      <td>0.000085</td>\n",
       "      <td>0.000085</td>\n",
       "      <td>0.000085</td>\n",
       "      <td>0.000084</td>\n",
       "      <td>0.000083</td>\n",
       "      <td>0.000082</td>\n",
       "      <td>0.000081</td>\n",
       "      <td>0.000081</td>\n",
       "      <td>0.000081</td>\n",
       "      <td>0.000080</td>\n",
       "      <td>0.000080</td>\n",
       "      <td>0.000080</td>\n",
       "      <td>0.000081</td>\n",
       "      <td>0.000081</td>\n",
       "      <td>0.000082</td>\n",
       "      <td>0.000083</td>\n",
       "      <td>0.000084</td>\n",
       "      <td>0.000084</td>\n",
       "      <td>0.000085</td>\n",
       "      <td>...</td>\n",
       "      <td>-0.000063</td>\n",
       "      <td>-0.000064</td>\n",
       "      <td>-0.000064</td>\n",
       "      <td>-0.000063</td>\n",
       "      <td>-0.000063</td>\n",
       "      <td>-0.000061</td>\n",
       "      <td>-0.000061</td>\n",
       "      <td>-0.000061</td>\n",
       "      <td>-0.000060</td>\n",
       "      <td>-0.000059</td>\n",
       "      <td>-0.000057</td>\n",
       "      <td>-0.000056</td>\n",
       "      <td>-0.000056</td>\n",
       "      <td>-0.000054</td>\n",
       "      <td>-0.000052</td>\n",
       "      <td>-0.000051</td>\n",
       "      <td>-0.000050</td>\n",
       "      <td>-0.000049</td>\n",
       "      <td>-0.000047</td>\n",
       "      <td>-0.000046</td>\n",
       "      <td>-0.000045</td>\n",
       "      <td>-0.000043</td>\n",
       "      <td>-0.000042</td>\n",
       "      <td>-0.000042</td>\n",
       "      <td>-0.000042</td>\n",
       "      <td>-0.000042</td>\n",
       "      <td>-0.000043</td>\n",
       "      <td>-0.000043</td>\n",
       "      <td>-0.000044</td>\n",
       "      <td>-0.000045</td>\n",
       "      <td>-0.000046</td>\n",
       "      <td>-0.000048</td>\n",
       "      <td>-0.000049</td>\n",
       "      <td>-0.000051</td>\n",
       "      <td>-0.000052</td>\n",
       "      <td>-0.000052</td>\n",
       "      <td>-0.000053</td>\n",
       "      <td>-0.000053</td>\n",
       "      <td>-0.000052</td>\n",
       "      <td>-0.000051</td>\n",
       "    </tr>\n",
       "    <tr>\n",
       "      <th>1</th>\n",
       "      <td>41</td>\n",
       "      <td>0</td>\n",
       "      <td>0</td>\n",
       "      <td>left</td>\n",
       "      <td>A</td>\n",
       "      <td>41</td>\n",
       "      <td>0.000063</td>\n",
       "      <td>0.000064</td>\n",
       "      <td>0.000065</td>\n",
       "      <td>0.000067</td>\n",
       "      <td>0.000070</td>\n",
       "      <td>0.000072</td>\n",
       "      <td>0.000075</td>\n",
       "      <td>0.000077</td>\n",
       "      <td>0.000079</td>\n",
       "      <td>0.000080</td>\n",
       "      <td>0.000081</td>\n",
       "      <td>0.000083</td>\n",
       "      <td>0.000084</td>\n",
       "      <td>0.000085</td>\n",
       "      <td>0.000085</td>\n",
       "      <td>0.000085</td>\n",
       "      <td>0.000085</td>\n",
       "      <td>0.000084</td>\n",
       "      <td>0.000083</td>\n",
       "      <td>0.000082</td>\n",
       "      <td>0.000082</td>\n",
       "      <td>0.000081</td>\n",
       "      <td>0.000081</td>\n",
       "      <td>0.000081</td>\n",
       "      <td>0.000080</td>\n",
       "      <td>0.000079</td>\n",
       "      <td>0.000079</td>\n",
       "      <td>0.000080</td>\n",
       "      <td>0.000081</td>\n",
       "      <td>0.000082</td>\n",
       "      <td>0.000083</td>\n",
       "      <td>0.000083</td>\n",
       "      <td>0.000084</td>\n",
       "      <td>0.000084</td>\n",
       "      <td>...</td>\n",
       "      <td>-0.000055</td>\n",
       "      <td>-0.000055</td>\n",
       "      <td>-0.000055</td>\n",
       "      <td>-0.000055</td>\n",
       "      <td>-0.000054</td>\n",
       "      <td>-0.000053</td>\n",
       "      <td>-0.000052</td>\n",
       "      <td>-0.000052</td>\n",
       "      <td>-0.000052</td>\n",
       "      <td>-0.000050</td>\n",
       "      <td>-0.000049</td>\n",
       "      <td>-0.000048</td>\n",
       "      <td>-0.000047</td>\n",
       "      <td>-0.000045</td>\n",
       "      <td>-0.000044</td>\n",
       "      <td>-0.000042</td>\n",
       "      <td>-0.000041</td>\n",
       "      <td>-0.000040</td>\n",
       "      <td>-0.000039</td>\n",
       "      <td>-0.000038</td>\n",
       "      <td>-0.000037</td>\n",
       "      <td>-0.000035</td>\n",
       "      <td>-0.000034</td>\n",
       "      <td>-0.000034</td>\n",
       "      <td>-0.000034</td>\n",
       "      <td>-0.000034</td>\n",
       "      <td>-0.000035</td>\n",
       "      <td>-0.000036</td>\n",
       "      <td>-0.000036</td>\n",
       "      <td>-0.000037</td>\n",
       "      <td>-0.000039</td>\n",
       "      <td>-0.000040</td>\n",
       "      <td>-0.000042</td>\n",
       "      <td>-0.000043</td>\n",
       "      <td>-0.000044</td>\n",
       "      <td>-0.000044</td>\n",
       "      <td>-0.000044</td>\n",
       "      <td>-0.000044</td>\n",
       "      <td>-0.000044</td>\n",
       "      <td>-0.000042</td>\n",
       "    </tr>\n",
       "    <tr>\n",
       "      <th>2</th>\n",
       "      <td>42</td>\n",
       "      <td>0</td>\n",
       "      <td>0</td>\n",
       "      <td>left</td>\n",
       "      <td>A</td>\n",
       "      <td>42</td>\n",
       "      <td>0.000065</td>\n",
       "      <td>0.000066</td>\n",
       "      <td>0.000067</td>\n",
       "      <td>0.000069</td>\n",
       "      <td>0.000071</td>\n",
       "      <td>0.000074</td>\n",
       "      <td>0.000077</td>\n",
       "      <td>0.000079</td>\n",
       "      <td>0.000081</td>\n",
       "      <td>0.000082</td>\n",
       "      <td>0.000083</td>\n",
       "      <td>0.000085</td>\n",
       "      <td>0.000086</td>\n",
       "      <td>0.000087</td>\n",
       "      <td>0.000087</td>\n",
       "      <td>0.000087</td>\n",
       "      <td>0.000087</td>\n",
       "      <td>0.000086</td>\n",
       "      <td>0.000085</td>\n",
       "      <td>0.000085</td>\n",
       "      <td>0.000084</td>\n",
       "      <td>0.000083</td>\n",
       "      <td>0.000083</td>\n",
       "      <td>0.000082</td>\n",
       "      <td>0.000081</td>\n",
       "      <td>0.000081</td>\n",
       "      <td>0.000081</td>\n",
       "      <td>0.000082</td>\n",
       "      <td>0.000083</td>\n",
       "      <td>0.000083</td>\n",
       "      <td>0.000084</td>\n",
       "      <td>0.000085</td>\n",
       "      <td>0.000086</td>\n",
       "      <td>0.000086</td>\n",
       "      <td>...</td>\n",
       "      <td>-0.000059</td>\n",
       "      <td>-0.000059</td>\n",
       "      <td>-0.000059</td>\n",
       "      <td>-0.000058</td>\n",
       "      <td>-0.000057</td>\n",
       "      <td>-0.000057</td>\n",
       "      <td>-0.000057</td>\n",
       "      <td>-0.000056</td>\n",
       "      <td>-0.000056</td>\n",
       "      <td>-0.000054</td>\n",
       "      <td>-0.000052</td>\n",
       "      <td>-0.000051</td>\n",
       "      <td>-0.000051</td>\n",
       "      <td>-0.000049</td>\n",
       "      <td>-0.000047</td>\n",
       "      <td>-0.000046</td>\n",
       "      <td>-0.000045</td>\n",
       "      <td>-0.000044</td>\n",
       "      <td>-0.000042</td>\n",
       "      <td>-0.000041</td>\n",
       "      <td>-0.000040</td>\n",
       "      <td>-0.000039</td>\n",
       "      <td>-0.000038</td>\n",
       "      <td>-0.000037</td>\n",
       "      <td>-0.000037</td>\n",
       "      <td>-0.000037</td>\n",
       "      <td>-0.000038</td>\n",
       "      <td>-0.000039</td>\n",
       "      <td>-0.000039</td>\n",
       "      <td>-0.000040</td>\n",
       "      <td>-0.000042</td>\n",
       "      <td>-0.000043</td>\n",
       "      <td>-0.000045</td>\n",
       "      <td>-0.000046</td>\n",
       "      <td>-0.000047</td>\n",
       "      <td>-0.000047</td>\n",
       "      <td>-0.000047</td>\n",
       "      <td>-0.000047</td>\n",
       "      <td>-0.000047</td>\n",
       "      <td>-0.000045</td>\n",
       "    </tr>\n",
       "    <tr>\n",
       "      <th>3</th>\n",
       "      <td>43</td>\n",
       "      <td>0</td>\n",
       "      <td>0</td>\n",
       "      <td>left</td>\n",
       "      <td>A</td>\n",
       "      <td>43</td>\n",
       "      <td>0.000065</td>\n",
       "      <td>0.000066</td>\n",
       "      <td>0.000067</td>\n",
       "      <td>0.000069</td>\n",
       "      <td>0.000071</td>\n",
       "      <td>0.000074</td>\n",
       "      <td>0.000077</td>\n",
       "      <td>0.000079</td>\n",
       "      <td>0.000080</td>\n",
       "      <td>0.000081</td>\n",
       "      <td>0.000083</td>\n",
       "      <td>0.000085</td>\n",
       "      <td>0.000086</td>\n",
       "      <td>0.000086</td>\n",
       "      <td>0.000086</td>\n",
       "      <td>0.000086</td>\n",
       "      <td>0.000086</td>\n",
       "      <td>0.000085</td>\n",
       "      <td>0.000084</td>\n",
       "      <td>0.000083</td>\n",
       "      <td>0.000082</td>\n",
       "      <td>0.000082</td>\n",
       "      <td>0.000081</td>\n",
       "      <td>0.000081</td>\n",
       "      <td>0.000080</td>\n",
       "      <td>0.000079</td>\n",
       "      <td>0.000079</td>\n",
       "      <td>0.000080</td>\n",
       "      <td>0.000081</td>\n",
       "      <td>0.000081</td>\n",
       "      <td>0.000082</td>\n",
       "      <td>0.000083</td>\n",
       "      <td>0.000083</td>\n",
       "      <td>0.000084</td>\n",
       "      <td>...</td>\n",
       "      <td>-0.000059</td>\n",
       "      <td>-0.000059</td>\n",
       "      <td>-0.000059</td>\n",
       "      <td>-0.000058</td>\n",
       "      <td>-0.000058</td>\n",
       "      <td>-0.000057</td>\n",
       "      <td>-0.000057</td>\n",
       "      <td>-0.000057</td>\n",
       "      <td>-0.000056</td>\n",
       "      <td>-0.000054</td>\n",
       "      <td>-0.000053</td>\n",
       "      <td>-0.000052</td>\n",
       "      <td>-0.000051</td>\n",
       "      <td>-0.000050</td>\n",
       "      <td>-0.000048</td>\n",
       "      <td>-0.000047</td>\n",
       "      <td>-0.000046</td>\n",
       "      <td>-0.000045</td>\n",
       "      <td>-0.000043</td>\n",
       "      <td>-0.000042</td>\n",
       "      <td>-0.000041</td>\n",
       "      <td>-0.000040</td>\n",
       "      <td>-0.000039</td>\n",
       "      <td>-0.000039</td>\n",
       "      <td>-0.000038</td>\n",
       "      <td>-0.000038</td>\n",
       "      <td>-0.000039</td>\n",
       "      <td>-0.000040</td>\n",
       "      <td>-0.000041</td>\n",
       "      <td>-0.000042</td>\n",
       "      <td>-0.000043</td>\n",
       "      <td>-0.000045</td>\n",
       "      <td>-0.000046</td>\n",
       "      <td>-0.000047</td>\n",
       "      <td>-0.000048</td>\n",
       "      <td>-0.000049</td>\n",
       "      <td>-0.000049</td>\n",
       "      <td>-0.000049</td>\n",
       "      <td>-0.000048</td>\n",
       "      <td>-0.000046</td>\n",
       "    </tr>\n",
       "    <tr>\n",
       "      <th>4</th>\n",
       "      <td>44</td>\n",
       "      <td>0</td>\n",
       "      <td>0</td>\n",
       "      <td>left</td>\n",
       "      <td>A</td>\n",
       "      <td>44</td>\n",
       "      <td>0.000061</td>\n",
       "      <td>0.000062</td>\n",
       "      <td>0.000063</td>\n",
       "      <td>0.000065</td>\n",
       "      <td>0.000067</td>\n",
       "      <td>0.000070</td>\n",
       "      <td>0.000072</td>\n",
       "      <td>0.000075</td>\n",
       "      <td>0.000076</td>\n",
       "      <td>0.000077</td>\n",
       "      <td>0.000078</td>\n",
       "      <td>0.000080</td>\n",
       "      <td>0.000081</td>\n",
       "      <td>0.000082</td>\n",
       "      <td>0.000082</td>\n",
       "      <td>0.000082</td>\n",
       "      <td>0.000082</td>\n",
       "      <td>0.000081</td>\n",
       "      <td>0.000080</td>\n",
       "      <td>0.000079</td>\n",
       "      <td>0.000078</td>\n",
       "      <td>0.000078</td>\n",
       "      <td>0.000078</td>\n",
       "      <td>0.000077</td>\n",
       "      <td>0.000076</td>\n",
       "      <td>0.000075</td>\n",
       "      <td>0.000075</td>\n",
       "      <td>0.000076</td>\n",
       "      <td>0.000077</td>\n",
       "      <td>0.000078</td>\n",
       "      <td>0.000079</td>\n",
       "      <td>0.000080</td>\n",
       "      <td>0.000080</td>\n",
       "      <td>0.000081</td>\n",
       "      <td>...</td>\n",
       "      <td>-0.000064</td>\n",
       "      <td>-0.000064</td>\n",
       "      <td>-0.000064</td>\n",
       "      <td>-0.000064</td>\n",
       "      <td>-0.000063</td>\n",
       "      <td>-0.000062</td>\n",
       "      <td>-0.000062</td>\n",
       "      <td>-0.000062</td>\n",
       "      <td>-0.000061</td>\n",
       "      <td>-0.000059</td>\n",
       "      <td>-0.000058</td>\n",
       "      <td>-0.000057</td>\n",
       "      <td>-0.000057</td>\n",
       "      <td>-0.000055</td>\n",
       "      <td>-0.000054</td>\n",
       "      <td>-0.000053</td>\n",
       "      <td>-0.000052</td>\n",
       "      <td>-0.000051</td>\n",
       "      <td>-0.000049</td>\n",
       "      <td>-0.000048</td>\n",
       "      <td>-0.000047</td>\n",
       "      <td>-0.000046</td>\n",
       "      <td>-0.000045</td>\n",
       "      <td>-0.000044</td>\n",
       "      <td>-0.000044</td>\n",
       "      <td>-0.000044</td>\n",
       "      <td>-0.000045</td>\n",
       "      <td>-0.000046</td>\n",
       "      <td>-0.000046</td>\n",
       "      <td>-0.000047</td>\n",
       "      <td>-0.000049</td>\n",
       "      <td>-0.000050</td>\n",
       "      <td>-0.000051</td>\n",
       "      <td>-0.000053</td>\n",
       "      <td>-0.000054</td>\n",
       "      <td>-0.000054</td>\n",
       "      <td>-0.000055</td>\n",
       "      <td>-0.000054</td>\n",
       "      <td>-0.000054</td>\n",
       "      <td>-0.000052</td>\n",
       "    </tr>\n",
       "  </tbody>\n",
       "</table>\n",
       "<p>5 rows × 666 columns</p>\n",
       "</div>"
      ],
      "text/plain": [
       "   Unnamed: 0  subject  session   ear  ...  data_656  data_657  data_658  data_659\n",
       "0          40        0        0  left  ... -0.000053 -0.000053 -0.000052 -0.000051\n",
       "1          41        0        0  left  ... -0.000044 -0.000044 -0.000044 -0.000042\n",
       "2          42        0        0  left  ... -0.000047 -0.000047 -0.000047 -0.000045\n",
       "3          43        0        0  left  ... -0.000049 -0.000049 -0.000048 -0.000046\n",
       "4          44        0        0  left  ... -0.000055 -0.000054 -0.000054 -0.000052\n",
       "\n",
       "[5 rows x 666 columns]"
      ]
     },
     "execution_count": 4,
     "metadata": {
      "tags": []
     },
     "output_type": "execute_result"
    }
   ],
   "source": [
    "df.head()"
   ]
  },
  {
   "cell_type": "code",
   "execution_count": 5,
   "metadata": {
    "colab": {
     "base_uri": "https://localhost:8080/"
    },
    "id": "GIL3tvvbkdTZ",
    "outputId": "94c97bdc-45c4-4889-9b50-0d17fb4d2e24"
   },
   "outputs": [
    {
     "name": "stdout",
     "output_type": "stream",
     "text": [
      "<class 'pandas.core.frame.DataFrame'>\n",
      "RangeIndex: 4320 entries, 0 to 4319\n",
      "Columns: 666 entries, Unnamed: 0 to data_659\n",
      "dtypes: float64(660), int64(4), object(2)\n",
      "memory usage: 22.0+ MB\n",
      "None\n",
      "----Check if Data has any null values----\n",
      "Unnamed: 0    0\n",
      "subject       0\n",
      "session       0\n",
      "ear           0\n",
      "buffer        0\n",
      "             ..\n",
      "data_655      0\n",
      "data_656      0\n",
      "data_657      0\n",
      "data_658      0\n",
      "data_659      0\n",
      "Length: 666, dtype: int64\n",
      "\n",
      "No null Values in the dataset\n"
     ]
    }
   ],
   "source": [
    "#Checking for null values\n",
    "print(df.info())\n",
    "print(\"----Check if Data has any null values----\")\n",
    "print(df.isnull().sum())\n",
    "if(df.isnull().values.any()==False):\n",
    "    print(\"\\nNo null Values in the dataset\")\n",
    "else:\n",
    "    print(\"\\ndataset has null values\")"
   ]
  },
  {
   "cell_type": "code",
   "execution_count": 6,
   "metadata": {
    "id": "7suWQgddD-uT"
   },
   "outputs": [],
   "source": [
    "#Reading the csv file again and dropping unused columns\n",
    "df_again = pd.read_csv('/content/drive/My Drive/Colab Notebooks/steadyteoaeLast10_4320Signals.csv')\n",
    "df_again=df_again.drop([\"session\",\"ear\",\"buffer\",\"block\"],axis=1)"
   ]
  },
  {
   "cell_type": "code",
   "execution_count": 7,
   "metadata": {
    "colab": {
     "base_uri": "https://localhost:8080/",
     "height": 266
    },
    "id": "t89QQKYBESBF",
    "outputId": "321ca02f-2a90-473d-ac78-df81e0c35bde"
   },
   "outputs": [
    {
     "data": {
      "image/png": "[encoded data removed]",
      "text/plain": [
       "<Figure size 432x288 with 1 Axes>"
      ]
     },
     "metadata": {
      "needs_background": "light",
      "tags": []
     },
     "output_type": "display_data"
    }
   ],
   "source": [
    "#View the signals in the dataset\n",
    "for i in range(0,20):\n",
    "    disp = df_again.iloc[i,2:661].values\n",
    "    plt.plot(disp)\n",
    "#10 consecutive signals are similar in a dataset while the next consecutive 10 are not."
   ]
  },
  {
   "cell_type": "code",
   "execution_count": 8,
   "metadata": {
    "colab": {
     "base_uri": "https://localhost:8080/",
     "height": 296
    },
    "id": "Jom7GxJaEd95",
    "outputId": "03a012c3-e844-43ee-a1d8-38ab0a563e7e"
   },
   "outputs": [
    {
     "data": {
      "text/plain": [
       "Text(18, 97.9, '  98.05%')"
      ]
     },
     "execution_count": 8,
     "metadata": {
      "tags": []
     },
     "output_type": "execute_result"
    },
    {
     "data": {
      "image/png": "[encoded data removed]",
      "text/plain": [
       "<Figure size 432x288 with 1 Axes>"
      ]
     },
     "metadata": {
      "needs_background": "light",
      "tags": []
     },
     "output_type": "display_data"
    }
   ],
   "source": [
    "#Scale factor testing\n",
    "import matplotlib.pyplot as plt\n",
    "import seaborn as sns\n",
    "\n",
    "x_is = [0,11,13,20]\n",
    "y_is = [97.4,99.76,99.8,98.05]\n",
    "\n",
    "plt.xlabel(\"Scale factors\")\n",
    "plt.ylabel(\"Accuracies\")\n",
    "\n",
    "plt.scatter(x_is,y_is)\n",
    "plt.plot(x_is,y_is)\n",
    "plt.annotate(\"  97.4%\", (0, 97.4))\n",
    "plt.annotate(\"99.76%\", (8.2, 99.76))\n",
    "plt.annotate(\"  99.8%\", (13, 99.8))\n",
    "plt.annotate(\"  98.05%\", (18, 97.9))"
   ]
  },
  {
   "cell_type": "code",
   "execution_count": 9,
   "metadata": {
    "colab": {
     "base_uri": "https://localhost:8080/"
    },
    "id": "qk7Ew794HnDI",
    "outputId": "0149d4c1-7185-460f-c156-632103a97b17"
   },
   "outputs": [
    {
     "name": "stdout",
     "output_type": "stream",
     "text": [
      "(10, 666)\n",
      "      Unnamed: 0  subject  session  ...  data_657  data_658  data_659\n",
      "2730       30662       34        0  ...  0.000009  0.000009  0.000009\n",
      "2731       30663       34        0  ...  0.000010  0.000010  0.000010\n",
      "2732       30664       34        0  ...  0.000010  0.000010  0.000010\n",
      "2733       30665       34        0  ...  0.000010  0.000010  0.000010\n",
      "2734       30666       34        0  ...  0.000010  0.000010  0.000010\n",
      "2735       30667       34        0  ...  0.000010  0.000010  0.000010\n",
      "2736       30668       34        0  ...  0.000010  0.000010  0.000010\n",
      "2737       30669       34        0  ...  0.000010  0.000010  0.000010\n",
      "2738       30670       34        0  ...  0.000009  0.000008  0.000008\n",
      "2739       30671       34        0  ...  0.000008  0.000008  0.000008\n",
      "\n",
      "[10 rows x 666 columns]\n"
     ]
    }
   ],
   "source": [
    "#creating a dataFrame for the dataset\n",
    "def subject0(subjectno, sessionno, earname, bufferid):\n",
    "    dfu0=df.groupby(['subject', 'session', 'ear', 'buffer']).get_group((subjectno, sessionno, earname, bufferid)).iloc[-10:]\n",
    "    return dfu0\n",
    "\n",
    "x=subject0(34,0,'left','B')\n",
    "x['subject'].iloc[0]\n",
    "print(x.shape)\n",
    "print(x)"
   ]
  },
  {
   "cell_type": "code",
   "execution_count": 10,
   "metadata": {
    "id": "atQxK9YQHyzu"
   },
   "outputs": [],
   "source": [
    "#Creating Input and Labels DataFrame\n",
    "\n",
    "allInputTEOAEsignalsAllSubjects = pd.DataFrame([])\n",
    "allOutputLabelsAllSubjects = pd.DataFrame([])\n",
    "for a in range(54):\n",
    "    #print(a)\n",
    "    df1 = pd.DataFrame([])\n",
    "    b=[0,1]              # sessions 0 and 1\n",
    "    c=['left','right']   # ears \n",
    "    d=['A','B']          # buffers\n",
    "    \n",
    "    allFeatures =  pd.DataFrame([])\n",
    "    allInputFeatures =  pd.DataFrame([])\n",
    "    outputLabel =  pd.DataFrame([])\n",
    "    fftValues =  pd.DataFrame([])\n",
    "    psdValues =  pd.DataFrame([])\n",
    "    autocorrValues = pd.DataFrame([])\n",
    "        \n",
    "    for q,r,s in [(q,r,s) for q in b for r in c for s in d]:\n",
    "        \n",
    "        # df1 contains all the 80 TEOAE signals of subject a\n",
    "        df1 = df1.append(subject0(a,q,r,s))\n",
    "        allInputFeatures = df1.iloc[:,6:]\n",
    "    \n",
    "    allInputTEOAEsignalsAllSubjects = pd.concat([allInputTEOAEsignalsAllSubjects.reset_index(drop=True),\n",
    "                                                 allInputFeatures.reset_index(drop=True)], axis=0)\n",
    "    # the following gets you the class label <= subject no.[0,1,2,...,53]\n",
    "    outputLabel = df1.iloc[:,1] \n",
    "    #print(\"OutputLabel:\",outputLabel)\n",
    "    #allOutputLabelsAllSubjects = allOutputLabelsAllSubjects.append(outputLabel)\n",
    "    #append didn't work for output so using pd.cat instead\n",
    "    allOutputLabelsAllSubjects = pd.concat([allOutputLabelsAllSubjects.reset_index(drop=True),\n",
    "                                            outputLabel.reset_index(drop=True)], axis=0)\n",
    "    #print(allInputTEOAEsignalsAllSubjects.shape)\n",
    "    #print(allOutputLabelsAllSubjects.shape)\n"
   ]
  },
  {
   "cell_type": "code",
   "execution_count": 11,
   "metadata": {
    "id": "zz6WhfgBH0_a"
   },
   "outputs": [],
   "source": [
    "# save extracted dataframe locally\n",
    "X=pd.DataFrame([])\n",
    "y=pd.DataFrame([])\n",
    "xsave = pd.DataFrame([])\n",
    "ysave = pd.DataFrame([])\n",
    "X = allInputTEOAEsignalsAllSubjects\n",
    "y = allOutputLabelsAllSubjects\n",
    "xsave = X\n",
    "ysave = y\n",
    "xsave.to_pickle('dataX.pkl')\n",
    "ysave.to_pickle('labelY.pkl')\n",
    "#a pkl file is a compressed form of the orginal csv. \n",
    "#Further the pkl file takes lesser storage space compared to the original csv \n",
    "#for eg., a csv file might take up 40 MB storage space but its pkl file would require only 1.5 MB storage space"
   ]
  },
  {
   "cell_type": "code",
   "execution_count": 12,
   "metadata": {
    "id": "0F_XoHdKIGCX"
   },
   "outputs": [],
   "source": [
    "#Load from pkl files\n",
    "X = pd.read_pickle('dataX.pkl')\n",
    "y = pd.read_pickle('labelY.pkl')"
   ]
  },
  {
   "cell_type": "code",
   "execution_count": 13,
   "metadata": {
    "id": "Pqun9nVtIHrQ"
   },
   "outputs": [],
   "source": [
    "#Splitting 80% for training and 20% for testing\n",
    "X_train, X_test, y_train, y_test = train_test_split(X, y, test_size=0.2, random_state=2)"
   ]
  },
  {
   "cell_type": "code",
   "execution_count": 14,
   "metadata": {
    "colab": {
     "base_uri": "https://localhost:8080/"
    },
    "id": "w2RVutUUIJEo",
    "outputId": "17ebf152-499e-4615-c00b-738a83b4ca4a"
   },
   "outputs": [
    {
     "name": "stdout",
     "output_type": "stream",
     "text": [
      "(3456, 660)\n",
      "(864, 660)\n",
      "(3456, 1)\n",
      "(864, 1)\n",
      "(3456,)\n"
     ]
    }
   ],
   "source": [
    "#Checking the dimensions of train and test array\n",
    "print(np.asarray(X_train).shape)\n",
    "print(np.asarray(X_test).shape)\n",
    "print(np.asarray(y_train).shape)\n",
    "print(np.asarray(y_test).shape)\n",
    "labels_train = list(map(lambda x: int(x), np.asarray(y_train)))\n",
    "print(np.asarray(labels_train).shape)"
   ]
  },
  {
   "cell_type": "code",
   "execution_count": 15,
   "metadata": {
    "colab": {
     "base_uri": "https://localhost:8080/",
     "height": 268
    },
    "id": "8ElXFJtaIKnL",
    "outputId": "4c5109eb-09e1-414d-eb67-f21c86929c2c"
   },
   "outputs": [
    {
     "data": {
      "image/png": "[encoded data removed]",
      "text/plain": [
       "<Figure size 432x288 with 1 Axes>"
      ]
     },
     "metadata": {
      "needs_background": "light",
      "tags": []
     },
     "output_type": "display_data"
    }
   ],
   "source": [
    "# Check if continuous waves are similar to each other in X_train\n",
    "for i in range(1,5):\n",
    "    X_disp = X_train.iloc[i,:].values\n",
    "    plt.plot(X_disp)"
   ]
  },
  {
   "cell_type": "code",
   "execution_count": 16,
   "metadata": {
    "colab": {
     "base_uri": "https://localhost:8080/",
     "height": 163
    },
    "id": "g5XXY9fAIOzQ",
    "outputId": "7882c434-e194-4655-de60-f928999592ab"
   },
   "outputs": [
    {
     "data": {
      "image/png": "[encoded data removed]",
      "text/plain": [
       "<Figure size 1152x144 with 1 Axes>"
      ]
     },
     "metadata": {
      "needs_background": "light",
      "tags": []
     },
     "output_type": "display_data"
    }
   ],
   "source": [
    "#scales = range(1,661)\n",
    "scales = range(1,51)\n",
    "waveletname = 'morl'\n",
    "train_size = 3456\n",
    "test_size= 864\n",
    "\n",
    "#################################################\n",
    "### plotting CWT of a single TEOAE signal  ######\n",
    "#################################################\n",
    "coeff, freq = pywt.cwt(X_train.iloc[3,:], scales, waveletname, 1)\n",
    "plt.matshow(coeff,  cmap='PRGn', aspect='auto')\n",
    "plt.show()"
   ]
  },
  {
   "cell_type": "code",
   "execution_count": 17,
   "metadata": {
    "id": "C1YXrIbHIRAY"
   },
   "outputs": [],
   "source": [
    "#CWT\n",
    "scales = range(1,51)\n",
    "waveletname = 'morl'\n",
    "train_size = X_train.shape[0]\n",
    "test_size= X_test.shape[0]\n",
    "\n",
    "#########################################################\n",
    "### creating a tensor to store CWT matrices of train egs#\n",
    "#########################################################\n",
    "train_data_cwt = np.ndarray(shape=(train_size, 50, 659)) \n",
    "\n",
    "for ii in range(0,train_size):\n",
    "    # if ii % 50 == 0: #len(X_train) == 0:\n",
    "    #     print(ii)\n",
    "    signal = X_train.iloc[ii, :]\n",
    "    coeff, freq = pywt.cwt(signal, scales, waveletname, 1)\n",
    "    coeff_ = coeff[:,:659]\n",
    "    train_data_cwt[ii, :, :] = coeff_\n",
    "    #train_data_cwt[:, :, ii] = coeff_\n",
    "\n",
    "###########################################################\n",
    "### creating a tensor to store CWT matrices of test egs ###\n",
    "###########################################################\n",
    "test_data_cwt = np.ndarray(shape=(test_size, 50, 659))\n",
    "\n",
    "for ii in range(0,test_size):\n",
    "    # if ii % 50 == 0:\n",
    "    #     print(ii)\n",
    "    signal = X_test.iloc[ii, :]\n",
    "    coeff, freq = pywt.cwt(signal, scales, waveletname, 1)\n",
    "    coeff_ = coeff[:,:659]\n",
    "    test_data_cwt[ii, :, :] = coeff_\n",
    "    #test_data_cwt[:, :, ii] = coeff_\n",
    "\n",
    "###########################################################\n",
    "### convert the labels from float to int of train and test egs\n",
    "###########################################################\n",
    "labels_train = list(map(lambda x: int(x), np.asarray(y_train)))\n",
    "labels_test = list(map(lambda x: int(x), np.asarray(y_test)))\n",
    "\n",
    "###########################################################\n",
    "### putting all the train and test CWT data             ###\n",
    "###########################################################\n",
    "x_train = train_data_cwt\n",
    "y_train = list(labels_train[:train_size])\n",
    "x_test = test_data_cwt\n",
    "y_test = list(labels_test[:test_size])"
   ]
  },
  {
   "cell_type": "code",
   "execution_count": 18,
   "metadata": {
    "id": "HehAWdPrIS4V"
   },
   "outputs": [],
   "source": [
    "#Convert the labels to array\n",
    "y_test_np = np.asarray(y_test)\n",
    "y_train_np = np.asarray(y_train)"
   ]
  },
  {
   "cell_type": "code",
   "execution_count": 19,
   "metadata": {
    "colab": {
     "base_uri": "https://localhost:8080/"
    },
    "id": "2avhLp5UJByt",
    "outputId": "4a36df38-fd6f-4b76-f12c-28348d45103e"
   },
   "outputs": [
    {
     "name": "stdout",
     "output_type": "stream",
     "text": [
      "(3456, 50, 659)\n",
      "(864, 50, 659)\n",
      "(3456,)\n",
      "(864,)\n",
      "3456\n",
      "864\n"
     ]
    }
   ],
   "source": [
    "#Printing shapes\n",
    "print(np.asarray(x_train).shape)\n",
    "print(np.asarray(x_test).shape)\n",
    "print(np.asarray(y_train).shape)\n",
    "print(np.asarray(y_test).shape)\n",
    "print(len(x_train))\n",
    "print(len(x_test))"
   ]
  },
  {
   "cell_type": "code",
   "execution_count": 20,
   "metadata": {
    "id": "G4H8dV2OJDhm"
   },
   "outputs": [],
   "source": [
    "# save numpy array\n",
    "np.save('x_train_CNN', x_train)\n",
    "np.save('x_test_CNN', x_test)\n",
    "np.save('y_test_CNN', y_test_np)\n",
    "np.save('y_train_CNN', y_train_np)"
   ]
  },
  {
   "cell_type": "code",
   "execution_count": 21,
   "metadata": {
    "id": "UmK_vZNGJFe-"
   },
   "outputs": [],
   "source": [
    "#load data\n",
    "x_train = np.load('x_train_CNN.npy')\n",
    "x_test = np.load('x_test_CNN.npy')\n",
    "y_train_np = np.load('y_train_CNN.npy')\n",
    "y_test_np = np.load('y_test_CNN.npy')"
   ]
  },
  {
   "cell_type": "code",
   "execution_count": 22,
   "metadata": {
    "id": "LCbNVMB0JKIG"
   },
   "outputs": [],
   "source": [
    "#AlexNet:\n",
    "\n",
    "model = AlexNet = Sequential()\n",
    "\n",
    "#1st Convolutional Layer\n",
    "AlexNet.add(Conv2D(filters=96, input_shape=(50,660,3), kernel_size=(11,11), strides=(4,4), padding='same'))\n",
    "AlexNet.add(BatchNormalization())\n",
    "AlexNet.add(Activation('relu'))\n",
    "AlexNet.add(MaxPooling2D(pool_size=(2,2), strides=(2,2), padding='same'))\n",
    "\n",
    "#2nd Convolutional Layer\n",
    "AlexNet.add(Conv2D(filters=256, kernel_size=(5, 5), strides=(1,1), padding='same'))\n",
    "AlexNet.add(BatchNormalization())\n",
    "AlexNet.add(Activation('relu'))\n",
    "AlexNet.add(MaxPooling2D(pool_size=(2,2), strides=(2,2), padding='same'))\n",
    "\n",
    "#3rd Convolutional Layer\n",
    "AlexNet.add(Conv2D(filters=384, kernel_size=(3,3), strides=(1,1), padding='same'))\n",
    "AlexNet.add(BatchNormalization())\n",
    "AlexNet.add(Activation('relu'))\n",
    "\n",
    "#4th Convolutional Layer\n",
    "AlexNet.add(Conv2D(filters=384, kernel_size=(3,3), strides=(1,1), padding='same'))\n",
    "AlexNet.add(BatchNormalization())\n",
    "AlexNet.add(Activation('relu'))\n",
    "\n",
    "#5th Convolutional Layer\n",
    "AlexNet.add(Conv2D(filters=256, kernel_size=(3,3), strides=(1,1), padding='same'))\n",
    "AlexNet.add(BatchNormalization())\n",
    "AlexNet.add(Activation('relu'))\n",
    "AlexNet.add(MaxPooling2D(pool_size=(2,2), strides=(2,2), padding='same'))\n",
    "\n",
    "#Passing it to a Fully Connected layer\n",
    "AlexNet.add(Flatten())"
   ]
  },
  {
   "cell_type": "code",
   "execution_count": 23,
   "metadata": {
    "id": "PhRGfkJjJMMH"
   },
   "outputs": [],
   "source": [
    "#AlexNet\n",
    "num_classes=54\n",
    "x_train_cnn = x_train.reshape(3456,50,659,1)#len(x_train),img_x, img_y, img_z)\n",
    "x_test_cnn = x_test.reshape(864,50,659,1)#len(x_test),img_x, img_y, img_z)\n",
    "rgb_train = np.repeat(x_train_cnn, 3, -1)\n",
    "rgb_test = np.repeat(x_test_cnn,3,-1)"
   ]
  },
  {
   "cell_type": "code",
   "execution_count": 24,
   "metadata": {
    "id": "g2w7qmh6JUUt"
   },
   "outputs": [],
   "source": [
    "#Compile the Model\n",
    "AlexNet.compile(loss='categorical_crossentropy',\n",
    "              optimizer='adam',\n",
    "              metrics=['accuracy'])"
   ]
  },
  {
   "cell_type": "code",
   "execution_count": 25,
   "metadata": {
    "colab": {
     "base_uri": "https://localhost:8080/"
    },
    "id": "O55K8pu2JWjc",
    "outputId": "dbe6b09e-6b1e-487f-9611-5c22cb186248"
   },
   "outputs": [
    {
     "name": "stdout",
     "output_type": "stream",
     "text": [
      "WARNING:tensorflow:Model was constructed with shape (None, 50, 660, 3) for input KerasTensor(type_spec=TensorSpec(shape=(None, 50, 660, 3), dtype=tf.float32, name='conv2d_input'), name='conv2d_input', description=\"created by layer 'conv2d_input'\"), but it was called on an input with incompatible shape (32, 50, 659, 3).\n"
     ]
    },
    {
     "data": {
      "text/plain": [
       "(3456, 10752)"
      ]
     },
     "execution_count": 25,
     "metadata": {
      "tags": []
     },
     "output_type": "execute_result"
    }
   ],
   "source": [
    "#obtain the flattened output for training\n",
    "features_xtrain=AlexNet.predict(rgb_train) #training\n",
    "features_xtrain.shape"
   ]
  },
  {
   "cell_type": "code",
   "execution_count": 26,
   "metadata": {
    "colab": {
     "base_uri": "https://localhost:8080/"
    },
    "id": "UV_x6qMHJY-J",
    "outputId": "ebeec930-5d1e-478d-c477-13d5e0420c09"
   },
   "outputs": [
    {
     "data": {
      "text/plain": [
       "(864, 10752)"
      ]
     },
     "execution_count": 26,
     "metadata": {
      "tags": []
     },
     "output_type": "execute_result"
    }
   ],
   "source": [
    "#Flattened output for Testing\n",
    "features_xtest=AlexNet.predict(rgb_test) #testing\n",
    "features_xtest.shape"
   ]
  },
  {
   "cell_type": "code",
   "execution_count": 27,
   "metadata": {
    "id": "CNLjKTlHJ6QF"
   },
   "outputs": [],
   "source": [
    "# performing PCA on the flattened array\n",
    "\n",
    "scaler = StandardScaler()\n",
    "scaler.fit(features_xtrain)\n",
    "\n",
    "features_xtrain = scaler.transform(features_xtrain)\n",
    "features_xtest = scaler.transform(features_xtest)\n",
    "\n",
    "pca = PCA(.95)  #using 95% of the variance in the model.\n",
    "\n",
    "pca.fit(features_xtrain)\n",
    "\n",
    "features_xtrain = pca.transform(features_xtrain)\n",
    "features_xtest = pca.transform(features_xtest)"
   ]
  },
  {
   "cell_type": "code",
   "execution_count": 28,
   "metadata": {
    "colab": {
     "base_uri": "https://localhost:8080/"
    },
    "id": "YpEP4Ww5KKEc",
    "outputId": "692e6b3b-57e4-45cb-c344-cddce647da5e"
   },
   "outputs": [
    {
     "name": "stdout",
     "output_type": "stream",
     "text": [
      "Training Accuracy: 97.63\n",
      "Testing accuracy: 96.18\n"
     ]
    }
   ],
   "source": [
    " #SVM classifier\n",
    "\n",
    "svm=SVC()\n",
    "svm.fit(features_xtrain,y_train_np)\n",
    "\n",
    "#training accuracy\n",
    "acc_svm_train=round(svm.score(features_xtrain,y_train_np)*100,2)\n",
    "print(\"Training Accuracy:\",acc_svm_train)\n",
    "\n",
    "#testing accuracy\n",
    "acc_svm_test=round(svm.score(features_xtest,y_test_np)*100,2)\n",
    "print(\"Testing accuracy:\",acc_svm_test)"
   ]
  },
  {
   "cell_type": "code",
   "execution_count": 29,
   "metadata": {
    "colab": {
     "base_uri": "https://localhost:8080/"
    },
    "id": "7eOiV593KYro",
    "outputId": "e6b3a70f-4396-4744-b0b0-5b0ac1c4ef31"
   },
   "outputs": [
    {
     "name": "stdout",
     "output_type": "stream",
     "text": [
      "Iteration 1, loss = 3.92930277\n",
      "Iteration 2, loss = 1.50940738\n",
      "Iteration 3, loss = 0.48390894\n",
      "Iteration 4, loss = 0.18716786\n",
      "Iteration 5, loss = 0.09837190\n",
      "Iteration 6, loss = 0.05906338\n",
      "Iteration 7, loss = 0.03713580\n",
      "Iteration 8, loss = 0.02427681\n",
      "Iteration 9, loss = 0.01616169\n",
      "Iteration 10, loss = 0.01176992\n",
      "Iteration 11, loss = 0.00933163\n",
      "Iteration 12, loss = 0.00764906\n",
      "Iteration 13, loss = 0.00626224\n",
      "Iteration 14, loss = 0.00532035\n",
      "Iteration 15, loss = 0.00453676\n",
      "Iteration 16, loss = 0.00387568\n",
      "Iteration 17, loss = 0.00342884\n",
      "Iteration 18, loss = 0.00308512\n",
      "Iteration 19, loss = 0.00274216\n",
      "Iteration 20, loss = 0.00247546\n",
      "Iteration 21, loss = 0.00224017\n",
      "Iteration 22, loss = 0.00204667\n",
      "Iteration 23, loss = 0.00188065\n",
      "Iteration 24, loss = 0.00174544\n",
      "Iteration 25, loss = 0.00161138\n",
      "Iteration 26, loss = 0.00148104\n",
      "Iteration 27, loss = 0.00138207\n",
      "Iteration 28, loss = 0.00128504\n",
      "Iteration 29, loss = 0.00120361\n",
      "Iteration 30, loss = 0.00113224\n",
      "Iteration 31, loss = 0.00106683\n",
      "Iteration 32, loss = 0.00100980\n",
      "Iteration 33, loss = 0.00096135\n",
      "Iteration 34, loss = 0.00090388\n",
      "Iteration 35, loss = 0.00086014\n",
      "Iteration 36, loss = 0.00081780\n",
      "Iteration 37, loss = 0.00077855\n",
      "Iteration 38, loss = 0.00074326\n",
      "Iteration 39, loss = 0.00071716\n",
      "Iteration 40, loss = 0.00068601\n",
      "Iteration 41, loss = 0.00065671\n",
      "Iteration 42, loss = 0.00062981\n",
      "Iteration 43, loss = 0.00060667\n",
      "Iteration 44, loss = 0.00058323\n",
      "Iteration 45, loss = 0.00056325\n",
      "Iteration 46, loss = 0.00054436\n",
      "Iteration 47, loss = 0.00052714\n",
      "Iteration 48, loss = 0.00050978\n",
      "Iteration 49, loss = 0.00049441\n",
      "Iteration 50, loss = 0.00047859\n"
     ]
    },
    {
     "name": "stderr",
     "output_type": "stream",
     "text": [
      "/usr/local/lib/python3.7/dist-packages/sklearn/neural_network/_multilayer_perceptron.py:571: ConvergenceWarning: Stochastic Optimizer: Maximum iterations (50) reached and the optimization hasn't converged yet.\n",
      "  % self.max_iter, ConvergenceWarning)\n"
     ]
    },
    {
     "data": {
      "text/plain": [
       "100.0"
      ]
     },
     "execution_count": 29,
     "metadata": {
      "tags": []
     },
     "output_type": "execute_result"
    }
   ],
   "source": [
    "# MLP classification\n",
    "mlp_clf = MLPClassifier(hidden_layer_sizes=(100,150,100), max_iter=50, alpha=0.0001,\n",
    "                     solver='adam', verbose=10,  random_state=0,tol=0.000001)\n",
    "mlp_clf.fit(features_xtrain, y_train_np)\n",
    "\n",
    "pred_test = mlp_clf.predict(features_xtest) #testing accuracy\n",
    "accuracy_score(y_test_np, pred_test)*100"
   ]
  },
  {
   "cell_type": "code",
   "execution_count": 30,
   "metadata": {
    "colab": {
     "base_uri": "https://localhost:8080/",
     "height": 596
    },
    "id": "rMd6vPwXKb74",
    "outputId": "b1f9a991-deb9-4ad6-dcfd-91e5a225e6b0"
   },
   "outputs": [
    {
     "data": {
      "image/png": "[encoded data removed]",
      "text/plain": [
       "<Figure size 864x720 with 2 Axes>"
      ]
     },
     "metadata": {
      "needs_background": "light",
      "tags": []
     },
     "output_type": "display_data"
    }
   ],
   "source": [
    "# Plotting the Confusion matrix\n",
    "cm = confusion_matrix(y_test_np, pred_test)\n",
    "plt.figure(figsize=(12,10))\n",
    "sns.heatmap(cm, center=True, cmap='coolwarm')\n",
    "plt.show()"
   ]
  },
  {
   "cell_type": "code",
   "execution_count": 32,
   "metadata": {
    "colab": {
     "base_uri": "https://localhost:8080/"
    },
    "id": "OlB4MPib0A18",
    "outputId": "7e6bd879-d578-4587-a62f-93bb592a4933"
   },
   "outputs": [
    {
     "data": {
      "text/plain": [
       "100.0"
      ]
     },
     "execution_count": 32,
     "metadata": {
      "tags": []
     },
     "output_type": "execute_result"
    }
   ],
   "source": [
    "# KNN algorithm \n",
    "\n",
    "knn = KNeighborsClassifier(n_neighbors=5) \n",
    "knn.fit(features_xtrain, y_train_np) \n",
    "pred_test = knn.predict(features_xtest) #testing accuracy\n",
    "accuracy_score(y_test_np, pred_test)*100"
   ]
  },
  {
   "cell_type": "code",
   "execution_count": 33,
   "metadata": {
    "colab": {
     "base_uri": "https://localhost:8080/",
     "height": 596
    },
    "id": "pLU_HU3Q0FbL",
    "outputId": "1d4d47a0-c043-47a4-a593-c36d922a1956"
   },
   "outputs": [
    {
     "data": {
      "image/png": "[encoded data removed]",
      "text/plain": [
       "<Figure size 864x720 with 2 Axes>"
      ]
     },
     "metadata": {
      "needs_background": "light",
      "tags": []
     },
     "output_type": "display_data"
    }
   ],
   "source": [
    "cm = confusion_matrix(y_test_np, pred_test)\n",
    "\n",
    "plt.figure(figsize=(12,10))\n",
    "sns.heatmap(cm, center=True, cmap='coolwarm')\n",
    "plt.show()"
   ]
  },
  {
   "cell_type": "code",
   "execution_count": 34,
   "metadata": {
    "colab": {
     "base_uri": "https://localhost:8080/"
    },
    "id": "6WaOxnlu0HNu",
    "outputId": "e0154464-a5c5-4ae6-923f-6bb7ab94773b"
   },
   "outputs": [
    {
     "data": {
      "text/plain": [
       "99.65277777777779"
      ]
     },
     "execution_count": 34,
     "metadata": {
      "tags": []
     },
     "output_type": "execute_result"
    }
   ],
   "source": [
    "# XGBoost classifier\n",
    "\n",
    "from xgboost import XGBClassifier\n",
    "model = XGBClassifier()\n",
    "model.fit(features_xtrain, y_train_np)\n",
    "pred_test = model.predict(features_xtest) #testing accuracy\n",
    "accuracy_score(y_test_np, pred_test)*100"
   ]
  },
  {
   "cell_type": "code",
   "execution_count": 35,
   "metadata": {
    "colab": {
     "base_uri": "https://localhost:8080/",
     "height": 596
    },
    "id": "4PJNPQLe0JXV",
    "outputId": "a44e0ce1-628b-410b-f40f-a62e470d25f4"
   },
   "outputs": [
    {
     "data": {
      "image/png": "[encoded data removed]",
      "text/plain": [
       "<Figure size 864x720 with 2 Axes>"
      ]
     },
     "metadata": {
      "needs_background": "light",
      "tags": []
     },
     "output_type": "display_data"
    }
   ],
   "source": [
    "cm = confusion_matrix(y_test_np, pred_test)\n",
    "\n",
    "plt.figure(figsize=(12,10))\n",
    "sns.heatmap(cm, center=True, cmap='coolwarm')\n",
    "plt.show()"
   ]
  },
  {
   "cell_type": "code",
   "execution_count": null,
   "metadata": {
    "id": "EEaZDZg20wep"
   },
   "outputs": [],
   "source": []
  }
 ],
 "metadata": {
  "colab": {
   "collapsed_sections": [],
   "name": "TEOAE_2DCNN_AlexNet_80_20_split_for54Subjects.ipynb",
   "provenance": []
  },
  "kernelspec": {
   "display_name": "Python 3 (ipykernel)",
   "language": "python",
   "name": "python3"
  },
  "language_info": {
   "codemirror_mode": {
    "name": "ipython",
    "version": 3
   },
   "file_extension": ".py",
   "mimetype": "text/x-python",
   "name": "python",
   "nbconvert_exporter": "python",
   "pygments_lexer": "ipython3",
   "version": "3.11.5"
  }
 },
 "nbformat": 4,
 "nbformat_minor": 4
}
